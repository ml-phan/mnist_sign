{
 "cells": [
  {
   "cell_type": "code",
   "execution_count": 1,
   "id": "0f957575",
   "metadata": {},
   "outputs": [],
   "source": [
    "import torch\n",
    "import torch.nn as nn\n",
    "from torch.optim import SGD, Adam\n",
    "import torch.nn.functional as F\n",
    "from torch.utils.data import Dataset, DataLoader\n",
    "import torchvision\n",
    "import numpy as np\n",
    "import pandas as pd\n",
    "import matplotlib.pyplot as plt\n",
    "\n"
   ]
  },
  {
   "cell_type": "code",
   "execution_count": 2,
   "id": "485aee04",
   "metadata": {},
   "outputs": [],
   "source": [
    "train_path = r\"data/sign_mnist_train.csv\"\n",
    "test_path = r\"data/sign_mnist_test.csv\"\n"
   ]
  },
  {
   "cell_type": "code",
   "execution_count": 3,
   "id": "ce486020",
   "metadata": {},
   "outputs": [],
   "source": [
    "class SMDataset(Dataset):\n",
    "    def __init__(self, file_path):\n",
    "        data = pd.read_csv(file_path)\n",
    "        self.y = data[\"label\"]\n",
    "        self.y = torch.tensor(self.y.values, dtype=torch.long)\n",
    "        del data[\"label\"]\n",
    "        # Ensure 1 channel for grayscale images\n",
    "        self.x = (torch.tensor(data.values, dtype=torch.float) / 255).view(-1, 1, 28, 28)  \n",
    "    \n",
    "    def __len__(self):\n",
    "        return self.x.shape[0]\n",
    "    \n",
    "    def __getitem__(self, idx):\n",
    "        return self.x[idx], self.y[idx]   "
   ]
  },
  {
   "cell_type": "code",
   "execution_count": 4,
   "id": "d237618c",
   "metadata": {},
   "outputs": [],
   "source": [
    "train_data = SMDataset(train_path)\n",
    "test_data = SMDataset(test_path)\n",
    "\n",
    "# Use batch_size=64 for training DataLoader and batch_size=1 for test DataLoader\n",
    "train_dl = DataLoader(train_data, batch_size=128, shuffle=True)\n",
    "test_dl = DataLoader(test_data, batch_size=1)"
   ]
  },
  {
   "cell_type": "code",
   "execution_count": 5,
   "id": "24132bcb",
   "metadata": {},
   "outputs": [],
   "source": [
    "class SMCNN(nn.Module):\n",
    "    def __init__(self):\n",
    "        super(SMCNN, self).__init__()\n",
    "        self.conv1 = nn.Conv2d(in_channels=1, out_channels=16, kernel_size=3, padding=1)\n",
    "        self.conv2 = nn.Conv2d(in_channels=16, out_channels=32, kernel_size=3, padding=1)\n",
    "        self.fc1 = nn.Linear(32 * 7 * 7, 128)\n",
    "        self.fc2 = nn.Linear(128, 25)\n",
    "        self.dropout = nn.Dropout(0.005)\n",
    "\n",
    "    def forward(self, x):\n",
    "        x = self.conv1(x)\n",
    "        x = F.relu(x)\n",
    "        x = F.max_pool2d(x, 2)\n",
    "        \n",
    "        x = self.conv2(x)\n",
    "        x = F.relu(x)\n",
    "        x = F.max_pool2d(x, 2)\n",
    "\n",
    "        x = x.view(-1, 32 * 7 * 7)\n",
    "        x = self.dropout(F.relu(self.fc1(x)))\n",
    "        x = self.fc2(x)\n",
    "        return x\n"
   ]
  },
  {
   "cell_type": "code",
   "execution_count": 6,
   "id": "913fdb6f",
   "metadata": {},
   "outputs": [],
   "source": [
    "\n",
    "def train_model(data, model, n_epochs):\n",
    "    optimizer = Adam(model.parameters(), lr=0.001)    \n",
    "    L = nn.CrossEntropyLoss()\n",
    "    \n",
    "    losses = []\n",
    "    epochs = []\n",
    "    \n",
    "    for epoch in range(n_epochs):\n",
    "        print(f\"Training epoch {epoch}.\")\n",
    "        for i, (x, y) in enumerate(data):\n",
    "            optimizer.zero_grad()\n",
    "            outputs = model(x)\n",
    "            loss_value = L(outputs, y)\n",
    "            loss_value.backward()\n",
    "            optimizer.step()\n",
    "            epochs.append(epoch + i / len(data))\n",
    "            losses.append(loss_value.item())\n",
    "    return np.array(epochs), np.array(losses)\n"
   ]
  },
  {
   "cell_type": "code",
   "execution_count": 7,
   "id": "8ddc2a1f",
   "metadata": {},
   "outputs": [
    {
     "name": "stdout",
     "output_type": "stream",
     "text": [
      "Training epoch 0.\n",
      "Training epoch 1.\n",
      "Training epoch 2.\n",
      "Training epoch 3.\n",
      "Training epoch 4.\n",
      "Training epoch 5.\n",
      "Training epoch 6.\n",
      "Training epoch 7.\n",
      "Training epoch 8.\n",
      "Training epoch 9.\n",
      "Training epoch 10.\n",
      "Training epoch 11.\n",
      "Training epoch 12.\n",
      "Training epoch 13.\n",
      "Training epoch 14.\n",
      "Training epoch 15.\n",
      "Training epoch 16.\n",
      "Training epoch 17.\n",
      "Training epoch 18.\n",
      "Training epoch 19.\n"
     ]
    }
   ],
   "source": [
    "\n",
    "num_epochs = 20\n",
    "\n",
    "# Create the CNN model\n",
    "model_cnn = SMCNN()\n",
    "\n",
    "# Train the CNN model\n",
    "epoch_data, loss_data = train_model(train_dl, model_cnn, num_epochs)\n"
   ]
  },
  {
   "cell_type": "code",
   "execution_count": 8,
   "id": "d837b974",
   "metadata": {},
   "outputs": [],
   "source": [
    "\n",
    "# Calculate the average loss per epoch\n",
    "epoch_data_avg = epoch_data.reshape(num_epochs, -1).mean(axis=1)\n",
    "loss_data_avg = loss_data.reshape(num_epochs, -1).mean(axis=1)\n"
   ]
  },
  {
   "cell_type": "code",
   "execution_count": 9,
   "id": "4fd235bf",
   "metadata": {
    "scrolled": true
   },
   "outputs": [
    {
     "data": {
      "text/plain": [
       "Text(0.5, 1.0, 'Cross Entropy Loss per Epoch')"
      ]
     },
     "execution_count": 9,
     "metadata": {},
     "output_type": "execute_result"
    },
    {
     "data": {
      "image/png": "[encoded data removed]",
      "text/plain": [
       "<Figure size 432x288 with 1 Axes>"
      ]
     },
     "metadata": {
      "needs_background": "light"
     },
     "output_type": "display_data"
    }
   ],
   "source": [
    "\n",
    "# Plot the training loss\n",
    "plt.plot(epoch_data_avg, loss_data_avg)\n",
    "plt.xlabel(\"Epoch number\")\n",
    "plt.xlabel(\"Cross Entropy Loss\")\n",
    "plt.title(\"Cross Entropy Loss per Epoch\")\n",
    "\n"
   ]
  },
  {
   "cell_type": "code",
   "execution_count": 10,
   "id": "40c5aec0",
   "metadata": {},
   "outputs": [],
   "source": [
    "def evaluate_mode(train, test, model):\n",
    "    x_train, y_train = train_data[:]\n",
    "    x_test, y_test = test_data[:]\n",
    "    pred_y_train = model(x_train)\n",
    "    pred_y_test = model(x_test)\n",
    "    train_acc = (pred_y_train.argmax(axis=1) == y_train).sum() / len(y_train) * 100\n",
    "    test_acc = (pred_y_test.argmax(axis=1) == y_test).sum() / len(y_test) * 100\n",
    "    print(\"Train set:\", len(x_train))\n",
    "    print(\"Test set:\", len(x_test))\n",
    "    print(f\"Train data accuracy: {train_acc.numpy():.2f}%\")\n",
    "    print(f\"Test data accuracy: {test_acc.numpy():.2f}%\")\n",
    "    return train_acc, test_acc"
   ]
  },
  {
   "cell_type": "code",
   "execution_count": 11,
   "id": "b5eb6b4b",
   "metadata": {},
   "outputs": [
    {
     "name": "stdout",
     "output_type": "stream",
     "text": [
      "Train set: 27455\n",
      "Test set: 7172\n",
      "Train data accuracy: 99.93%\n",
      "Test data accuracy: 90.81%\n"
     ]
    }
   ],
   "source": [
    "# Evaluate the model on the training and test data\n",
    "accuracy = evaluate_mode(train_data,test_data, model_cnn)\n",
    "\n",
    "\n"
   ]
  },
  {
   "cell_type": "code",
   "execution_count": null,
   "id": "fa6dff76",
   "metadata": {},
   "outputs": [],
   "source": []
  }
 ],
 "metadata": {
  "kernelspec": {
   "display_name": "Python 3",
   "language": "python",
   "name": "python3"
  },
  "language_info": {
   "codemirror_mode": {
    "name": "ipython",
    "version": 3
   },
   "file_extension": ".py",
   "mimetype": "text/x-python",
   "name": "python",
   "nbconvert_exporter": "python",
   "pygments_lexer": "ipython3",
   "version": "3.9.7"
  }
 },
 "nbformat": 4,
 "nbformat_minor": 5
}
